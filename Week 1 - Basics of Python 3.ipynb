{
 "cells": [
  {
   "cell_type": "markdown",
   "id": "a870e466",
   "metadata": {},
   "source": [
    "<div style='background-image: url(\"https://github.com/SabineVonHunerbein/MathsModellingCourse2022/blob/main/MMbanner,jpg") ; padding: 0px ; background-size: cover ; border-radius: 5px ; height: 200px; ; width : 900px'>\n",
    "\n",
    "<div style=\"float: right ; margin: 50px ; padding: 20px ; background: rgba(255 , 255 , 255 , 0.7) ; width: 50% ; height: 150px\">\n",
    "<div style=\"position: relative ; top: 50% ; transform: translatey(-50%)\">\n",
    "            <div style=\"font-size: xx-large ; font-weight: 900 ; color: rgba(0 , 0 , 0 , 0.8) ; line-height: 100%\">Mathematical Modelling, Sabine von Hünerbein</div>\n",
    "            <div style=\"font-size: large ; padding-top: 20px ; color: rgba(0 , 0 , 0 , 0.5)\">Week 1: Basic of Python 3, Python as a Calculator</div>\n",
    "        </div>\n",
    "    </div>\n",
    "</div>"
   ]
  },
  {
   "cell_type": "markdown",
   "id": "7cdeef7e-069c-417a-a567-2b518a7c665f",
   "metadata": {},
   "source": [
    "\n",
    "Python is a very powerful and widely-used language that will allow us to do mathematical calculations, import, analyse and visualise data and build mathematical models. In this course, we’ll be using Python 3, although Python 2 is still in use in some places. When looking at outside resources, be careful to make sure they’re using the same version.\n",
    "\n",
    "Let’s start where we start with many programming languages: Hello, world. This program, written in Python, would look like this:"
   ]
  },
  {
   "cell_type": "code",
   "execution_count": 2,
   "id": "a6ef2417-4dd7-46b9-a358-1cecdd379979",
   "metadata": {},
   "outputs": [
    {
     "name": "stdout",
     "output_type": "stream",
     "text": [
      "Hello, Natasha. Nice to meet you.\n"
     ]
    }
   ],
   "source": [
    "print(\"Hello, Natasha. Nice to meet you.\")"
   ]
  },
  {
   "cell_type": "markdown",
   "id": "4be676fb",
   "metadata": {},
   "source": [
    "To run the code either press the \"Run\" button in the Notebook Toolbar at the top of the jupyter notebook, or press \"Shift + Enter\""
   ]
  },
  {
   "cell_type": "markdown",
   "id": "49e3f2d6-a0c0-40ac-a960-a16d1b76600f",
   "metadata": {},
   "source": [
    "# Numbers and more in Python\n",
    "\n",
    "In this lecture, we will learn about numbers in Python and how to use them.\n",
    "\n",
    "We'll learn about the following topics:\n",
    "\n",
    "    1.) Types of Numbers in Python\n",
    "    2.) Basic Arithmetic\n",
    "    3.) Differences between classic division and floor division\n",
    "    4.) Object Assignment in Python"
   ]
  },
  {
   "cell_type": "markdown",
   "id": "9e10e699-66c4-4c85-822d-2edc9dd3126b",
   "metadata": {},
   "source": [
    "## Types of numbers\n",
    "\n",
    "Python has various \"types\" of numbers (numeric literals). We'll mainly focus on integers and floating point numbers.\n",
    "\n",
    "Integers are just whole numbers, positive or negative. For example: 2 and -2 are examples of integers.\n",
    "\n",
    "Floating point numbers in Python are notable because they have a decimal point in them, or use an exponential (e) to define the number. For example 2.0 and -2.1 are examples of floating point numbers. 4E2 (4 times 10 to the power of 2) is also an example of a floating point number in Python.\n",
    "\n",
    "Throughout this course we will be mainly working with integers or simple float number types.\n",
    "\n",
    "Here is a table of the two main types we will spend most of our time working with some examples:"
   ]
  },
  {
   "cell_type": "markdown",
   "id": "7d2beb4e-d253-48fc-9de8-8bd0fae389f7",
   "metadata": {},
   "source": [
    "<table>\n",
    "<tr>\n",
    "    <th>Examples</th> \n",
    "    <th>Number \"Type\"</th>\n",
    "</tr>\n",
    "\n",
    "<tr>\n",
    "    <td>1,2,-5,1000</td>\n",
    "    <td>Integers</td> \n",
    "</tr>\n",
    "\n",
    "<tr>\n",
    "    <td>1.2,-0.5,2e2,3E2</td> \n",
    "    <td>Floating-point numbers</td> \n",
    "</tr>\n",
    " </table>"
   ]
  },
  {
   "cell_type": "markdown",
   "id": "5153b517-fe49-4559-93cf-91fcfa5874e9",
   "metadata": {},
   "source": [
    "Now let's start with some basic arithmetic."
   ]
  },
  {
   "cell_type": "markdown",
   "id": "4ae751c5-10bf-4ca3-a742-715469f3dc65",
   "metadata": {},
   "source": [
    "## Basic Arithmetic"
   ]
  },
  {
   "cell_type": "code",
   "execution_count": 9,
   "id": "0a13e729-0073-452c-b654-639ed0a62d35",
   "metadata": {},
   "outputs": [
    {
     "data": {
      "text/plain": [
       "13"
      ]
     },
     "execution_count": 9,
     "metadata": {},
     "output_type": "execute_result"
    }
   ],
   "source": [
    "# Addition\n",
    "6+7"
   ]
  },
  {
   "cell_type": "code",
   "execution_count": 5,
   "id": "17aedc4d-c42b-400f-a275-669dacc3bdd1",
   "metadata": {},
   "outputs": [
    {
     "data": {
      "text/plain": [
       "11"
      ]
     },
     "execution_count": 5,
     "metadata": {},
     "output_type": "execute_result"
    }
   ],
   "source": [
    "# Subtraction\n",
    "23-12"
   ]
  },
  {
   "cell_type": "code",
   "execution_count": 1,
   "id": "42828a86-d267-43a3-a930-660d0d85ef51",
   "metadata": {},
   "outputs": [
    {
     "data": {
      "text/plain": [
       "-9"
      ]
     },
     "execution_count": 1,
     "metadata": {},
     "output_type": "execute_result"
    }
   ],
   "source": [
    "# Subtraction\n",
    "2-11"
   ]
  },
  {
   "cell_type": "code",
   "execution_count": 10,
   "id": "b28d64ed",
   "metadata": {},
   "outputs": [
    {
     "data": {
      "text/plain": [
       "31.4159"
      ]
     },
     "execution_count": 10,
     "metadata": {},
     "output_type": "execute_result"
    }
   ],
   "source": [
    "# Multiplication\n",
    "# calculate the circumference of a circle\n",
    "2*3.14159*5"
   ]
  },
  {
   "cell_type": "code",
   "execution_count": 7,
   "id": "562f4734-22bb-4767-adb6-42a37f4e1853",
   "metadata": {},
   "outputs": [
    {
     "data": {
      "text/plain": [
       "1.3333333333333333"
      ]
     },
     "execution_count": 7,
     "metadata": {},
     "output_type": "execute_result"
    }
   ],
   "source": [
    "# Division\n",
    "4/3"
   ]
  },
  {
   "cell_type": "code",
   "execution_count": 6,
   "id": "87459c5e-6a47-4d64-ab34-e7c5864d880b",
   "metadata": {},
   "outputs": [
    {
     "data": {
      "text/plain": [
       "1.75"
      ]
     },
     "execution_count": 6,
     "metadata": {},
     "output_type": "execute_result"
    }
   ],
   "source": [
    "7/4"
   ]
  },
  {
   "cell_type": "code",
   "execution_count": 7,
   "id": "5330047c-eac1-4395-9da2-cad66445099d",
   "metadata": {},
   "outputs": [
    {
     "data": {
      "text/plain": [
       "1"
      ]
     },
     "execution_count": 7,
     "metadata": {},
     "output_type": "execute_result"
    }
   ],
   "source": [
    "# Floor Division\n",
    "7//4"
   ]
  },
  {
   "cell_type": "markdown",
   "id": "e647e24e-f77e-4fad-97fa-dd282a9dc3b4",
   "metadata": {},
   "source": [
    "**Whoa! What just happened? Last time I checked, 7 divided by 4 equals 1.75 not 1!**\n",
    "\n",
    "The reason we get this result is because we are using \"*floor*\" division. The // operator (two forward slashes) truncates the decimal without rounding, and returns an integer result."
   ]
  },
  {
   "cell_type": "code",
   "execution_count": 8,
   "id": "73bdc81c-bb56-4b6e-b34c-31d8ea92255c",
   "metadata": {},
   "outputs": [
    {
     "data": {
      "text/plain": [
       "3"
      ]
     },
     "execution_count": 8,
     "metadata": {},
     "output_type": "execute_result"
    }
   ],
   "source": [
    "# Modulo\n",
    "7%4"
   ]
  },
  {
   "cell_type": "markdown",
   "id": "317298c6-2927-4e60-aedc-04f8f85fdfce",
   "metadata": {},
   "source": [
    "4 goes into 7 once, with a remainder of 3. The % operator returns the remainder after division."
   ]
  },
  {
   "cell_type": "code",
   "execution_count": 11,
   "id": "26a6cbad-0f78-4e0b-bfe4-d4f71bab26dd",
   "metadata": {},
   "outputs": [
    {
     "data": {
      "text/plain": [
       "36"
      ]
     },
     "execution_count": 11,
     "metadata": {},
     "output_type": "execute_result"
    }
   ],
   "source": [
    "# Powers\n",
    "6**2"
   ]
  },
  {
   "cell_type": "code",
   "execution_count": 10,
   "id": "8c99ff4f-930d-4087-9c3f-a9c752a9b668",
   "metadata": {},
   "outputs": [
    {
     "data": {
      "text/plain": [
       "2.0"
      ]
     },
     "execution_count": 10,
     "metadata": {},
     "output_type": "execute_result"
    }
   ],
   "source": [
    "# Can also do roots this way\n",
    "4**0.5"
   ]
  },
  {
   "cell_type": "code",
   "execution_count": 11,
   "id": "72df3981-a41e-475e-9732-cda7112c12b4",
   "metadata": {},
   "outputs": [
    {
     "data": {
      "text/plain": [
       "105"
      ]
     },
     "execution_count": 11,
     "metadata": {},
     "output_type": "execute_result"
    }
   ],
   "source": [
    "# Order of Operations followed in Python\n",
    "2 + 10 * 10 + 3"
   ]
  },
  {
   "cell_type": "code",
   "execution_count": 12,
   "id": "64e19555-3ca3-450c-8161-8da4a9d76ce9",
   "metadata": {},
   "outputs": [
    {
     "data": {
      "text/plain": [
       "156"
      ]
     },
     "execution_count": 12,
     "metadata": {},
     "output_type": "execute_result"
    }
   ],
   "source": [
    "# Can use parentheses to specify orders\n",
    "(2+10) * (10+3)"
   ]
  },
  {
   "cell_type": "markdown",
   "id": "2741d5c8-81db-454b-90b8-25dd707e2276",
   "metadata": {},
   "source": [
    "## Practice Exercises for Expressions\n",
    "\n",
    "\n",
    "Solve each of the practice exercises below. \n",
    "\n",
    "Note that many of these exercises focus on converting a mathematical formula in an equivalent Python expression.  For these exercises, we will always provide the formula.  Your task is to write the Python expression.\n",
    "____________________________________________________________________________________________________________"
   ]
  },
  {
   "cell_type": "markdown",
   "id": "adb60532-f7e5-4428-acad-dc0dc4633576",
   "metadata": {},
   "source": [
    "1. There are 5280 feet in a mile. Write a Python statement that calculates and prints the number of feet in 13 miles. "
   ]
  },
  {
   "cell_type": "code",
   "execution_count": 1,
   "id": "2ea4551c-e6d2-451d-b67d-0f7fc43ef0c9",
   "metadata": {},
   "outputs": [
    {
     "data": {
      "text/plain": [
       "'\\nTemplate - Compute the number of feet corresponding to a number of miles.\\n'"
      ]
     },
     "execution_count": 1,
     "metadata": {},
     "output_type": "execute_result"
    }
   ],
   "source": [
    "\"\"\"\n",
    "Template - Compute the number of feet corresponding to a number of miles.\n",
    "\"\"\"\n",
    "# Miles to feet conversion formula\n",
    "# your code is here\n",
    "\n"
   ]
  },
  {
   "cell_type": "markdown",
   "id": "abb9fb0b-3c0c-4a7c-ba46-8dbc304fcd8e",
   "metadata": {},
   "source": [
    "<div align=\"right\">\n",
    "<a href=\"#SM3\" class=\"btn btn-default\" data-toggle=\"collapse\">Click here for the solution</a>\n",
    "\n",
    "</div>\n",
    "<div id=\"SM3\" class=\"collapse\">\n",
    "```\n",
    "print(5280 * 13)\n",
    "\n",
    "```\n",
    "</div>"
   ]
  },
  {
   "cell_type": "markdown",
   "id": "a0ba1139-b339-4d29-9c4e-902d468a7819",
   "metadata": {},
   "source": [
    "2. Write a Python statement that calculates and prints the number of seconds in 7 hours, 21 minutes and 37 seconds."
   ]
  },
  {
   "cell_type": "code",
   "execution_count": 2,
   "id": "60b3fe4f-0a09-4090-811f-dea10542b544",
   "metadata": {},
   "outputs": [
    {
     "data": {
      "text/plain": [
       "'\\nTemplate - Compute the number of seconds in a given number of hours, minutes, and seconds.\\n'"
      ]
     },
     "execution_count": 2,
     "metadata": {},
     "output_type": "execute_result"
    }
   ],
   "source": [
    "\"\"\"\n",
    "Template - Compute the number of seconds in a given number of hours, minutes, and seconds.\n",
    "\"\"\"\n",
    "\n",
    "# Hours, minutes, and seconds to seconds conversion formula\n",
    "# your code is here\n"
   ]
  },
  {
   "cell_type": "markdown",
   "id": "5b478bb2",
   "metadata": {},
   "source": [
    "<div align=\"right\">\n",
    "<a href=\"#SM3\" class=\"btn btn-default\" data-toggle=\"collapse\">Click here for the solution</a>\n",
    "\n",
    "</div>\n",
    "<div id=\"SM3\" class=\"collapse\">\n",
    "```\n",
    "print((7 * 60 + 21) * 60 + 37)\n",
    "\n",
    "```\n",
    "</div>"
   ]
  },
  {
   "cell_type": "markdown",
   "id": "1ffb82ee-f9cd-4e22-8dee-f86b92892801",
   "metadata": {},
   "source": [
    "3. The perimeter of a rectangle is $2w+2h$, where w and h are the lengths of its sides. Write a Python statement that calculates and prints the length in inches of the perimeter of a rectangle with sides of length 4 and 7 inches."
   ]
  },
  {
   "cell_type": "code",
   "execution_count": 3,
   "id": "758444a1-500d-49e8-a0db-749fbcb77632",
   "metadata": {},
   "outputs": [
    {
     "data": {
      "text/plain": [
       "\"\\nTemplate - Compute the length of a rectangle's perimeter, given its width and height.\\n\""
      ]
     },
     "execution_count": 3,
     "metadata": {},
     "output_type": "execute_result"
    }
   ],
   "source": [
    "\"\"\"\n",
    "Template - Compute the length of a rectangle's perimeter, given its width and height.\n",
    "\"\"\"\n",
    "\n",
    "# Rectangle perimeter formula\n",
    "# your code is here"
   ]
  },
  {
   "cell_type": "markdown",
   "id": "cd24710d-7392-45e7-9737-9079272dc560",
   "metadata": {},
   "source": [
    "<div align=\"right\">\n",
    "<a href=\"#SM3\" class=\"btn btn-default\" data-toggle=\"collapse\">Click here for the solution</a>\n",
    "\n",
    "</div>\n",
    "<div id=\"SM3\" class=\"collapse\">\n",
    "```\n",
    "\n",
    "print(4 * 2 + 7 * 2)\n",
    "\n",
    "```\n",
    "</div>"
   ]
  },
  {
   "cell_type": "markdown",
   "id": "cc14f6c2-62ec-4d59-bf8a-a5c4382057be",
   "metadata": {},
   "source": [
    "4. Given p pounds, the future value of this money when compounded yearly at a rate of r percent interest for y years is  $p (1 + 0.01 r)^y$ . (Remember that you don't need to understand how this formula works, only how to translate it into Python.) Write a Python statement that calculates and prints the value of $1000$ pounds compounded at 7 percent interest for 10 years."
   ]
  },
  {
   "cell_type": "code",
   "execution_count": 4,
   "id": "fcd777c7-ef10-4582-bb2b-16f5abcfd31e",
   "metadata": {},
   "outputs": [
    {
     "data": {
      "text/plain": [
       "'\\nTemplate - Compute the future value of a given present value, annual rate, and number of years.\\n'"
      ]
     },
     "execution_count": 4,
     "metadata": {},
     "output_type": "execute_result"
    }
   ],
   "source": [
    "\"\"\"\n",
    "Template - Compute the future value of a given present value, annual rate, and number of years.\n",
    "\"\"\"\n",
    "\n",
    "\n",
    "# Future value formula\n",
    "# Your code is here"
   ]
  },
  {
   "cell_type": "markdown",
   "id": "3e1c1750-2d32-4370-9899-962839b5cf65",
   "metadata": {},
   "source": [
    "<div align=\"right\">\n",
    "<a href=\"#SM3\" class=\"btn btn-default\" data-toggle=\"collapse\">Click here for the solution</a>\n",
    "\n",
    "</div>\n",
    "<div id=\"SM3\" class=\"collapse\">\n",
    "```\n",
    "print(1000 * (1 + 0.01 * 7) ** 10)\n",
    "\n",
    "```\n",
    "</div>"
   ]
  },
  {
   "cell_type": "markdown",
   "id": "8a63bb71-08e0-4230-93f9-fdfb86b59632",
   "metadata": {},
   "source": [
    "5. Challenge: The distance between two points $(x_0, y_0)$ and $(x_1, y_1)$ is $\\sqrt{(x_0-x_1)^2 + (y_0-y_1)^2}$. Write a Python statement that calculates and prints the distance between the points $(2,2)$ and $(5,6)$. (Hint: Remember that a square root can be computed by raising a value to the 0.5 power.)"
   ]
  },
  {
   "cell_type": "code",
   "execution_count": 5,
   "id": "65dc7e16-aeed-4c2d-86f7-8011248fc742",
   "metadata": {},
   "outputs": [
    {
     "data": {
      "text/plain": [
       "'\\nTemplate - Compute the distance between the points (x0, y0) and (x1, y1).\\n'"
      ]
     },
     "execution_count": 5,
     "metadata": {},
     "output_type": "execute_result"
    }
   ],
   "source": [
    "\"\"\"\n",
    "Template - Compute the distance between the points (x0, y0) and (x1, y1).\n",
    "\"\"\"\n",
    "\n",
    "\n",
    "# Distance formula\n",
    "\n",
    "# Hint: You need to use the power operation ** .\n",
    "\n",
    "\n",
    "# Your code is here"
   ]
  },
  {
   "cell_type": "markdown",
   "id": "da98c9cd-c041-4456-bd47-3c9294fc8eee",
   "metadata": {},
   "source": [
    "<div align=\"right\">\n",
    "<a href=\"#SM3\" class=\"btn btn-default\" data-toggle=\"collapse\">Click here for the solution</a>\n",
    "\n",
    "</div>\n",
    "<div id=\"SM3\" class=\"collapse\">\n",
    "```\n",
    "print(((2 - 5) ** 2 + (2 - 6) ** 2) ** 0.5)\n",
    "\n",
    "```\n",
    "</div>"
   ]
  },
  {
   "cell_type": "markdown",
   "id": "7dbedc69-ac53-44a7-ac87-3623e4ab6203",
   "metadata": {},
   "source": [
    "## Variables\n",
    "\n",
    "A key part of any programming language is the ability to create and manipulate variables. In order to assign a value to a variable in Python, the syntax looks like this:"
   ]
  },
  {
   "cell_type": "code",
   "execution_count": 1,
   "id": "6f1893ff",
   "metadata": {},
   "outputs": [],
   "source": [
    "variable_name = 6"
   ]
  },
  {
   "cell_type": "markdown",
   "id": "6c7e160c-9b55-4349-a21d-b6dd61fee266",
   "metadata": {},
   "source": [
    "## Variable Assignments\n",
    "\n",
    "Now that we've seen how to use numbers in Python as a calculator let's see how we can assign names and create variables.\n",
    "\n",
    "\n",
    "### Rules for variable names\n",
    "* names can not start with a number\n",
    "* names can not contain spaces, use _ intead\n",
    "* names can not contain any of these symbols:\n",
    "\n",
    "      :'\",<>/?|\\!@#%^&*~-+\n",
    "       \n",
    "* it's considered best practice ([PEP8](https://www.python.org/dev/peps/pep-0008/#function-and-variable-names)) that names are lowercase with underscores\n",
    "* avoid using Python built-in keywords like `list` and `str`\n",
    "* avoid using the single characters `l` (lowercase letter el), `O` (uppercase letter oh) and `I` (uppercase letter eye) as they can be confused with `1` and `0`"
   ]
  },
  {
   "cell_type": "markdown",
   "id": "976ba357-5386-4dbf-ae2a-cea97d714a18",
   "metadata": {},
   "source": [
    "We use a single equals sign to assign labels to variables. Let's see a few examples of how we can do this."
   ]
  },
  {
   "cell_type": "code",
   "execution_count": 18,
   "id": "53f1827c-83e8-4e6b-8cb7-85343d49b4b9",
   "metadata": {},
   "outputs": [],
   "source": [
    "# Let's create an object called \"a\" and assign it the number 5\n",
    "a = 5"
   ]
  },
  {
   "cell_type": "markdown",
   "id": "3ab98779-57de-411f-8b45-f8f037db819f",
   "metadata": {},
   "source": [
    "Now if I call *a* in my Python script, Python will treat it as the number 5."
   ]
  },
  {
   "cell_type": "code",
   "execution_count": 19,
   "id": "e7cd8484-f206-4af4-9650-e36d5c74c110",
   "metadata": {},
   "outputs": [],
   "source": [
    "# Reassignment\n",
    "a = 10"
   ]
  },
  {
   "cell_type": "code",
   "execution_count": 20,
   "id": "eb412cf5-8dc1-4bfc-9f2d-269ffae2010a",
   "metadata": {},
   "outputs": [
    {
     "data": {
      "text/plain": [
       "10"
      ]
     },
     "execution_count": 20,
     "metadata": {},
     "output_type": "execute_result"
    }
   ],
   "source": [
    "# Check\n",
    "a"
   ]
  },
  {
   "cell_type": "markdown",
   "id": "048c2156-7502-4777-984a-e1f57bb3bbb4",
   "metadata": {},
   "source": [
    "Yes! Python allows you to write over assigned variable names. We can also use the variables themselves when doing the reassignment. Here is an example of what I mean:"
   ]
  },
  {
   "cell_type": "code",
   "execution_count": 21,
   "id": "34421ffc-8bd5-48a6-9777-1776a08028e1",
   "metadata": {},
   "outputs": [
    {
     "data": {
      "text/plain": [
       "10"
      ]
     },
     "execution_count": 21,
     "metadata": {},
     "output_type": "execute_result"
    }
   ],
   "source": [
    "# Check\n",
    "a"
   ]
  },
  {
   "cell_type": "code",
   "execution_count": 22,
   "id": "cc6df50c-8e12-4445-ba3b-03310de8608c",
   "metadata": {},
   "outputs": [],
   "source": [
    "# Use A to redefine A\n",
    "a = a + a"
   ]
  },
  {
   "cell_type": "code",
   "execution_count": 23,
   "id": "701ffc61-3e6a-415f-bc83-b1912a4817b8",
   "metadata": {},
   "outputs": [
    {
     "data": {
      "text/plain": [
       "20"
      ]
     },
     "execution_count": 23,
     "metadata": {},
     "output_type": "execute_result"
    }
   ],
   "source": [
    "# Check \n",
    "a"
   ]
  },
  {
   "cell_type": "markdown",
   "id": "4e5fcaad-9372-4654-a1dd-602ab914e9d2",
   "metadata": {},
   "source": [
    "There's actually a shortcut for this. Python lets you add, subtract, multiply and divide numbers with reassignment using `+=`, `-=`, `*=`, and `/=`."
   ]
  },
  {
   "cell_type": "code",
   "execution_count": 24,
   "id": "ebfe4148-a839-4d74-967c-fe47186cbb2a",
   "metadata": {},
   "outputs": [],
   "source": [
    "a += 10"
   ]
  },
  {
   "cell_type": "code",
   "execution_count": 25,
   "id": "8a4bb006-5a9a-4acf-b66d-201f9bcf9dbd",
   "metadata": {},
   "outputs": [
    {
     "data": {
      "text/plain": [
       "30"
      ]
     },
     "execution_count": 25,
     "metadata": {},
     "output_type": "execute_result"
    }
   ],
   "source": [
    "a"
   ]
  },
  {
   "cell_type": "code",
   "execution_count": 26,
   "id": "030b9ed8-d57c-47ea-9316-d0f97ce8ddb4",
   "metadata": {},
   "outputs": [],
   "source": [
    "a *= 2"
   ]
  },
  {
   "cell_type": "code",
   "execution_count": 27,
   "id": "1fee1df3-3402-4734-84f6-f9eef59018e8",
   "metadata": {},
   "outputs": [
    {
     "data": {
      "text/plain": [
       "60"
      ]
     },
     "execution_count": 27,
     "metadata": {},
     "output_type": "execute_result"
    }
   ],
   "source": [
    "a"
   ]
  },
  {
   "cell_type": "markdown",
   "id": "199a0b88-1713-429d-92a1-fa9a7281e218",
   "metadata": {},
   "source": [
    "The names you use when creating these labels need to follow a few rules:\n",
    "\n",
    "    1. Names can not start with a number.\n",
    "    2. There can be no spaces in the name, use _ instead.\n",
    "    3. Can't use any of these symbols :'\",<>/?|\\()!@#$%^&*~-+\n",
    "    4. It's considered best practice (PEP8) that names are lowercase.\n",
    "    5. Avoid using the characters 'l' (lowercase letter el), 'O' (uppercase letter oh), \n",
    "       or 'I' (uppercase letter eye) as single character variable names.\n",
    "    6. Avoid using words that have special meaning in Python like \"list\" and \"str\"\n",
    "\n",
    "\n",
    "Using variable names can be a very useful way to keep track of different variables in Python. For example:"
   ]
  },
  {
   "cell_type": "code",
   "execution_count": 28,
   "id": "a36b6c8a-38ef-4adc-b0af-0d819ab13f98",
   "metadata": {},
   "outputs": [],
   "source": [
    "# Use object names to keep better track of what's going on in your code!\n",
    "my_income = 100\n",
    "\n",
    "tax_rate = 0.1\n",
    "\n",
    "my_taxes = my_income*tax_rate"
   ]
  },
  {
   "cell_type": "code",
   "execution_count": 29,
   "id": "302acb86-4cff-49fc-947c-47518a3c335f",
   "metadata": {},
   "outputs": [
    {
     "data": {
      "text/plain": [
       "10.0"
      ]
     },
     "execution_count": 29,
     "metadata": {},
     "output_type": "execute_result"
    }
   ],
   "source": [
    "# Show my taxes!\n",
    "my_taxes"
   ]
  },
  {
   "cell_type": "markdown",
   "id": "5184f192",
   "metadata": {},
   "source": [
    "Variables do not have to be numeric. Examples c-e show a string and two boolean (logic) variables. "
   ]
  },
  {
   "cell_type": "code",
   "execution_count": 10,
   "id": "9bde80dc-bce6-4094-b26f-69f621dacd42",
   "metadata": {},
   "outputs": [],
   "source": [
    "a = 28\n",
    "b = 1.5\n",
    "c = \"Hello!\"\n",
    "d = True\n",
    "e = None"
   ]
  },
  {
   "cell_type": "code",
   "execution_count": 11,
   "id": "b8764ba5-cb8b-43ac-8964-4ce5831e9f88",
   "metadata": {},
   "outputs": [
    {
     "data": {
      "text/plain": [
       "int"
      ]
     },
     "execution_count": 11,
     "metadata": {},
     "output_type": "execute_result"
    }
   ],
   "source": [
    "type(a)"
   ]
  },
  {
   "cell_type": "code",
   "execution_count": 32,
   "id": "7fefd44e-3c78-47e1-9e3f-957db89306ba",
   "metadata": {},
   "outputs": [
    {
     "data": {
      "text/plain": [
       "str"
      ]
     },
     "execution_count": 32,
     "metadata": {},
     "output_type": "execute_result"
    }
   ],
   "source": [
    "type(c)"
   ]
  },
  {
   "cell_type": "code",
   "execution_count": 12,
   "id": "15b2ca48",
   "metadata": {},
   "outputs": [
    {
     "data": {
      "text/plain": [
       "bool"
      ]
     },
     "execution_count": 12,
     "metadata": {},
     "output_type": "execute_result"
    }
   ],
   "source": [
    "type(d)"
   ]
  },
  {
   "cell_type": "markdown",
   "id": "3dcb7e72-ce6f-4192-b93c-9a72468bbd48",
   "metadata": {},
   "source": [
    "## Practice Exercises for Variables and Assignments\n",
    "\n",
    "\n",
    "Practice Exercises for Variables and Assignments\n",
    "\n",
    "Solve each of the practice exercises below.\n",
    "\n",
    "____________________________________________________________________________________________________________"
   ]
  },
  {
   "cell_type": "markdown",
   "id": "4d5d5a25-475b-40cf-bb69-dd97ae487a48",
   "metadata": {},
   "source": [
    "<div align=\"right\">\n",
    "<a href=\"#SM3\" class=\"btn btn-default\" data-toggle=\"collapse\">Click here for the solution</a>\n",
    "\n",
    "</div>\n",
    "<div id=\"SM3\" class=\"collapse\">\n",
    "```\n",
    "future_value = present_value * (1 + 0.01 * annual_rate) ** years\n",
    "\n",
    "\n",
    "```\n",
    "</div>"
   ]
  },
  {
   "cell_type": "markdown",
   "id": "9644bdc5-4710-4f2e-94b3-a6fea79fb804",
   "metadata": {},
   "source": [
    "1. Given a template that pre-defines a variable $\\color{red}{\\verb|\"miles\"|}$, write an assignment statement that defines a variable $\\color{red}{\\verb|\"feet\"|}$ whose value is the number of feet in $\\color{red}{\\verb|\"miles\"|}$. "
   ]
  },
  {
   "cell_type": "code",
   "execution_count": 33,
   "id": "bb51937a-910a-4b72-ba8c-addfc274f508",
   "metadata": {},
   "outputs": [
    {
     "ename": "SyntaxError",
     "evalue": "invalid syntax (3804418516.py, line 22)",
     "output_type": "error",
     "traceback": [
      "\u001b[0;36m  File \u001b[0;32m\"/var/folders/8z/1cgprgvx06s7hc1y62c19db00000gn/T/ipykernel_28155/3804418516.py\"\u001b[0;36m, line \u001b[0;32m22\u001b[0m\n\u001b[0;31m    feet = # your code is here\u001b[0m\n\u001b[0m           ^\u001b[0m\n\u001b[0;31mSyntaxError\u001b[0m\u001b[0;31m:\u001b[0m invalid syntax\n"
     ]
    }
   ],
   "source": [
    "# Template Compute the number of feet corresponding to a number of miles.\n",
    "\n",
    "###################################################\n",
    "# Tests\n",
    "# Student should uncomment ONLY ONE of the following at a time.\n",
    "\n",
    "# Test 1 - Select the following lines and use ctrl+shift+k to uncomment.\n",
    "miles = 13\n",
    "\n",
    "\n",
    "# Test 2 - Select the following lines and use ctrl+shift+k to uncomment.\n",
    "#miles = 57\n",
    "\n",
    "\n",
    "# Test 3 - Select the following lines and use ctrl+shift+k to uncomment.\n",
    "#miles = 82.67\n",
    "\n",
    "\n",
    "###################################################\n",
    "# Miles to feet conversion formula\n",
    "# Student should enter formula on the next line.\n",
    "feet = # your code goes here\n",
    "\n",
    "###################################################\n",
    "# Test output\n",
    "# Student should not change this code.\n",
    "\n",
    "print(str(miles) + \" miles equals \" + str(feet) + \" feet.\")\n",
    "\n",
    "\n"
   ]
  },
  {
   "cell_type": "markdown",
   "id": "457dd0be-eedf-46a5-a5e3-99b662a324fd",
   "metadata": {},
   "source": [
    "<div align=\"right\">\n",
    "<a href=\"#SM3\" class=\"btn btn-default\" data-toggle=\"collapse\">Click here for the solution</a>\n",
    "\n",
    "</div>\n",
    "<div id=\"SM3\" class=\"collapse\">\n",
    "```\n",
    "\n",
    "feet = miles * 5280\n",
    "\n",
    "\n",
    "\n",
    "```\n",
    "</div>"
   ]
  },
  {
   "cell_type": "markdown",
   "id": "7731c204-f6ac-48d1-b07d-030edf4c1b70",
   "metadata": {},
   "source": [
    "2. Given a template that pre-defines three variables $\\color{red}{\\verb|\"hours\"|}$ , $\\color{red}{\\verb|\"minutes\"|}$  and $\\color{red}{\\verb|\"seconds\"|}$, write an assignment statement that updates the variable $\\color{red}{\\verb|\"total_seconds\"|}$ to have a value corresponding to the total number of seconds for $\\color{red}{\\verb|\"hours\"|}$  hours, $\\color{red}{\\verb|\"minutes\"|}$ minutes and $\\color{red}{\\verb|\"seconds\"|}$seconds."
   ]
  },
  {
   "cell_type": "code",
   "execution_count": 6,
   "id": "c1a3c132-f00f-4463-9c4f-6701baa38cab",
   "metadata": {},
   "outputs": [
    {
     "ename": "SyntaxError",
     "evalue": "invalid syntax (<ipython-input-6-1c9727add4dd>, line 32)",
     "output_type": "error",
     "traceback": [
      "\u001b[1;36m  File \u001b[1;32m\"<ipython-input-6-1c9727add4dd>\"\u001b[1;36m, line \u001b[1;32m32\u001b[0m\n\u001b[1;33m    total_seconds = # code goes here\u001b[0m\n\u001b[1;37m                    ^\u001b[0m\n\u001b[1;31mSyntaxError\u001b[0m\u001b[1;31m:\u001b[0m invalid syntax\n"
     ]
    }
   ],
   "source": [
    "\"\"\"\n",
    "Template - Compute the number of seconds in a given number of hours, minutes, and seconds.\n",
    "\"\"\"\n",
    "\n",
    "###################################################\n",
    "# Tests\n",
    "# Uncomment ONLY ONE of the following at a time.\n",
    "\n",
    "# Test 1 - Select the following lines using the mouse, use ctrl+k to uncomment.\n",
    "hours = 7\n",
    "minutes = 21\n",
    "seconds = 37\n",
    "\n",
    "\n",
    "# Test 2 - Select the following lines and use ctrl+shift+k to uncomment.\n",
    "#hours = 10\n",
    "#minutes = 1\n",
    "#seconds = 7\n",
    "\n",
    "\n",
    "# Test 3 - Select the following lines and use ctrl+shift+k to uncomment.\n",
    "#hours = 1\n",
    "#minutes = 0\n",
    "#seconds = 1\n",
    "\n",
    "\n",
    "###################################################\n",
    "# Hours, minutes, and seconds to seconds conversion formula\n",
    "# Student should enter formula on the next line.\n",
    "\n",
    "\n",
    "total_seconds = # code goes here\n",
    "\n",
    "###################################################\n",
    "# Test output\n",
    "# Student should not change this code.\n",
    "\n",
    "print(str(hours) + \" hours, \" + str(minutes) + \" minutes, and \" + \n",
    "      str(seconds) + \" seconds totals to \" + str(total_seconds) + \" seconds.\")\n",
    "\n"
   ]
  },
  {
   "cell_type": "markdown",
   "id": "e9068ab8-d385-4e85-a026-6725cbf31577",
   "metadata": {},
   "source": [
    "<div align=\"right\">\n",
    "<a href=\"#SM3\" class=\"btn btn-default\" data-toggle=\"collapse\">Click here for the solution</a>\n",
    "\n",
    "</div>\n",
    "<div id=\"SM3\" class=\"collapse\">\n",
    "```\n",
    "\n",
    "total_seconds = (hours * 60 + minutes) * 60 + seconds\n",
    "\n",
    "```\n",
    "</div>"
   ]
  },
  {
   "cell_type": "markdown",
   "id": "45c9fa7a-4eae-4e47-bbea-bd6dae0a4cce",
   "metadata": {},
   "source": [
    "3. Given the pre-defined variables p$\\color{red}{\\verb|\"present_value\"|}$ , $\\color{red}{\\verb|\"annual_rate\"|}$  and $\\color{red}{\\verb|\"years\"|}$ , write an assignment statement that define a variable $\\color{red}{\\verb|\"future_value\"|}$  whose value is $\\color{red}{\\verb|\"present_value\"|}$  dollars invested at $\\color{red}{\\verb|\"annual_rate\"|}$  percent interest, compounded annually for $\\color{red}{\\verb|\"years\"|}$  years.\n"
   ]
  },
  {
   "cell_type": "code",
   "execution_count": null,
   "id": "cee9277d-8d85-4ba2-95e1-e50aa6325dbd",
   "metadata": {},
   "outputs": [],
   "source": [
    "\"\"\"\n",
    "Template - Compute the future value of a given present value, annual rate, and number of years.\n",
    "\"\"\"\n",
    "\n",
    "###################################################\n",
    "# Tests\n",
    "# Uncomment ONLY ONE of the following at a time.\n",
    "\n",
    "# Test 1 - Select the following lines and use ctrl+shift+k to uncomment.\n",
    "present_value = 1000\n",
    "annual_rate = 7\n",
    "years = 10\n",
    "\n",
    "\n",
    "# Test 2 - Select the following lines and use ctrl+shift+k to uncomment.\n",
    "#present_value = 200\n",
    "#annual_rate = 4\n",
    "#years = 5\n",
    "\n",
    "\n",
    "# Test 3 - Select the following lines and use ctrl+shift+k to uncomment.\n",
    "#present_value = 1000\n",
    "#annual_rate = 3\n",
    "#years = 20\n",
    "\n",
    "\n",
    "###################################################\n",
    "# Future value formula\n",
    "# Student should enter formula on the next line.\n",
    "\n",
    "future_value = pass\n",
    "\n",
    "###################################################\n",
    "# Test output\n",
    "# Student should not change this code.\n",
    "\n",
    "print(\"The future value of $\" + str(present_value) + \" in \" + str(years) + \n",
    "      \" years at an annual rate of \" + str(annual_rate) + \"% is $\" + str(future_value) + \".\")\n",
    "\n"
   ]
  },
  {
   "cell_type": "markdown",
   "id": "acc5322f-e1c2-481f-bccd-04002e71db30",
   "metadata": {},
   "source": [
    "4. Challenge: Given the variables $x_0$, $y_0$, $x_1$, and $y_1$, write an assignment statement that defines a variable $distance$ whose values is the distance between the points $(x_0,y_0)$ an d$(x_1, y_1)$."
   ]
  },
  {
   "cell_type": "code",
   "execution_count": null,
   "id": "bfc710a6",
   "metadata": {},
   "outputs": [],
   "source": [
    "\"\"\"\n",
    "Template - Compute the distance between two points (x0,y0) and (x1,y1).\n",
    "\"\"\"\n",
    "\n",
    "###################################################\n",
    "# Tests\n",
    "# You should uncomment ONLY ONE of the following at a time.\n",
    "\n",
    "# Test 1 - Select the following lines and use ctrl+shift+k to uncomment.\n",
    "x_0, y_0 = 0, 0\n",
    "x_1, y_1 = 3, 4\n",
    "\n",
    "\n",
    "\n",
    "# Test 2 - Select the following lines and use ctrl+shift+k to uncomment.\n",
    "#x_0, y_0 = -2, 4\n",
    "#x_1, y_1 = 1, 6\n",
    "\n",
    "\n",
    "# Test 3 - Select the following lines and use ctrl+shift+k to uncomment.\n",
    "#x_0, y_0 = 10, 0\n",
    "#x_1, y_1 = 0, 0\n",
    "\n",
    "\n",
    "###################################################\n",
    "# Distance formula\n",
    "# Enter the formulae on the next lines.\n",
    "\n",
    "\n",
    "\n",
    "\n",
    "###################################################\n",
    "# Test output\n",
    "# Do not change this code.\n",
    "\n",
    "print(\"The two points (\" + str(x_0) + \",\" + str(y_0) + \"), and\" + \n",
    "      \" (\" + str(x_1) + \",\" + str(y_1) + \"), are distance \" + str(distance) + \" apart.\")"
   ]
  },
  {
   "cell_type": "markdown",
   "id": "d6da9059",
   "metadata": {},
   "source": [
    "5. Challenge: Given the variables 𝑥0, 𝑦0, 𝑥1, 𝑦1, x2, and y2 write an assignment statement that calculates the area of a triangle using Heron's formula:    \n",
    "Let s = (a+b+c)/2 then area = sqrt(s(s-a)(s-b)(s-c))"
   ]
  },
  {
   "cell_type": "code",
   "execution_count": null,
   "id": "9cd8361a-75e2-41a8-9548-271204a3b2b4",
   "metadata": {},
   "outputs": [],
   "source": [
    "\"\"\"\n",
    "Template - Compute the area of a triangle (using Heron's formula),\n",
    "       given its side lengths.\n",
    "\"\"\"\n",
    "\n",
    "###################################################\n",
    "# Tests\n",
    "# You should uncomment ONLY ONE of the following at a time.\n",
    "\n",
    "# Test 1 - Select the following lines and use ctrl+shift+k to uncomment.\n",
    "x_0, y_0 = 0, 0\n",
    "x_1, y_1 = 3, 4\n",
    "x_2, y_2 = 1, 1\n",
    "\n",
    "\n",
    "# Test 2 - Select the following lines and use ctrl+shift+k to uncomment.\n",
    "#x_0, y_0 = -2, 4\n",
    "#x_1, y_1 = 1, 6\n",
    "#x_2, y_2 = 2, 1\n",
    "\n",
    "\n",
    "# Test 3 - Select the following lines and use ctrl+shift+k to uncomment.\n",
    "#x_0, y_0 = 10, 0\n",
    "#x_1, y_1 = 0, 0\n",
    "#x_2, y_2 = 0, 10\n",
    "\n",
    "\n",
    "###################################################\n",
    "# Triangle area (Heron's) formula\n",
    "# Enter the formulae on the next lines.\n",
    "\n",
    "\n",
    "\n",
    "\n",
    "###################################################\n",
    "# Test output\n",
    "# Student should not change this code.\n",
    "\n",
    "print(\"A triangle with vertices (\" + str(x_0) + \",\" + str(y_0) + \"),\" + \n",
    "      \" (\" + str(x_1) + \",\" + str(y_1) + \"), and\" + \n",
    "      \" (\" + str(x_2) + \",\" + str(y_2) + \") has an area of \" + str(area) + \".\")"
   ]
  },
  {
   "cell_type": "markdown",
   "id": "84416d58-9471-4f70-a5a5-96fabae6e2f0",
   "metadata": {},
   "source": [
    "<div align=\"right\">\n",
    "<a href=\"#SM3\" class=\"btn btn-default\" data-toggle=\"collapse\">Click here for the solution</a>\n",
    "\n",
    "</div>\n",
    "<div id=\"SM3\" class=\"collapse\">\n",
    "```\n",
    "distance = ((x_0 - x_1) ** 2 + (y_0 - y_1) ** 2) ** 0.5\n",
    "\n",
    "```\n",
    "</div>"
   ]
  },
  {
   "cell_type": "markdown",
   "id": "454b5d91-6957-4f37-954a-8e64555c5416",
   "metadata": {},
   "source": [
    "So what have we learned? We learned some of the basics of numbers in Python. We also learned how to do arithmetic and use Python as a basic calculator. We then wrapped it up with learning about Variable Assignment in Python. Now try the tutorial for this week and remember to submit the Python script into the Tutorial 1 assessment area on Blackboard.\n",
    "\n",
    "Up next we'll learn about python data structure !"
   ]
  },
  {
   "cell_type": "markdown",
   "id": "809ee07e",
   "metadata": {},
   "source": [
    " __About the Lecturer__:  \n",
    "\n",
    "Dr. Sabine von Hünerbein who has taught Mathematical Modelling since 2012, her research included data analysis of wind and noise data as well as mathematical modelling of acoustic beam forming.\n",
    "\n",
    "Senior Lecturer /  School of Science, Engineering & Environment\n",
    "University of Salford, Manchester          M5 4WT\n",
    "s.vonhunerbein@salford.ac.uk  /  www.salford.ac.uk"
   ]
  },
  {
   "cell_type": "markdown",
   "id": "6b300e85",
   "metadata": {},
   "source": [
    " __Material adapted from code kindly provided by__:  \n",
    "\n",
    "Dr. Salem A Ameen who has a PhD in Machine Learning, his research focused on machine learning, multi-armed Bandit, and computer vision. Salem has been working for Salford University since he completed his PhD.\n",
    "\n",
    "Sessional Lecturer /  School of Science, Engineering & Environment\n",
    "University of Salford, Manchester          M5 4WT"
   ]
  }
 ],
 "metadata": {
  "kernelspec": {
   "display_name": "Python 3",
   "language": "python",
   "name": "python3"
  },
  "language_info": {
   "codemirror_mode": {
    "name": "ipython",
    "version": 3
   },
   "file_extension": ".py",
   "mimetype": "text/x-python",
   "name": "python",
   "nbconvert_exporter": "python",
   "pygments_lexer": "ipython3",
   "version": "3.8.8"
  }
 },
 "nbformat": 4,
 "nbformat_minor": 5
}

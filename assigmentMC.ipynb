{
 "cells": [
  {
   "cell_type": "markdown",
   "id": "004c29d0-99cb-457f-9dd8-2f60ec2552c1",
   "metadata": {},
   "source": [
    "<div style='background-image: url(\"https://github.com/SabineVonHunerbein/MathsModellingCourse2022/blob/main/MMbanner,jpg\") ;  padding: 0px ; background-size: cover ; border-radius: 5px ; height: 320px; ; width : 1204px'>\n",
    "\n",
    "<div style=\"float: right ; margin: 50px ; padding: 20px ; background: rgba(255 , 255 , 255 , 0.7) ; width: 50% ; height: 150px\">\n",
    "<div style=\"position: relative ; top: 50% ; transform: translatey(-50%)\">\n",
    "            <div style=\"font-size: xx-large ; font-weight: 900 ; color: rgba(0 , 0 , 0 , 0.8) ; line-height: 100%\">Mathematics and Computing, Semester 2, Salem Ameen</div>\n",
    "            <div style=\"font-size: large ; padding-top: 20px ; color: rgba(0 , 0 , 0 , 0.5)\">Computing Assessment</div>\n",
    "        </div>\n",
    "    </div>\n",
    "</div>"
   ]
  },
  {
   "cell_type": "markdown",
   "id": "1feda7d0",
   "metadata": {},
   "source": [
    "<div style='background-image: url(\"https://github.com/SabineVonHunerbein/MathsModellingCourse2022_23/blob/main/MMbanner.png\") ;  padding: 0px ; background-size: cover ; border-radius: 5px ; height: 160px; ; width : 602px'>"
   ]
  },
  {
   "cell_type": "markdown",
   "id": "eb5c7f28-6be9-48f1-99eb-3ef8202afa94",
   "metadata": {},
   "source": [
    "## Q1:\n",
    "\n",
    "Write a Python function __print_digits__ that takes an integer __number__ $[0,100)$ and prints the message __\"The tens digit is %, and the ones digit is %.\"__ where the percents should be replaced with the appropriate values. The function should include an error check for the case when __number__ is negative or greater than or equal to __100__. In those cases, the function should instead print __\"Error: Input is not a two-digit number.\"__\n",
    "\n",
    "for example:\n",
    "\n",
    "\n",
    "print_digits(42)\n",
    "\n",
    "The tens digit is 4,and the ones digit is 2."
   ]
  },
  {
   "cell_type": "code",
   "execution_count": null,
   "id": "f3257597-842f-43b1-9dc7-929baab3ea8d",
   "metadata": {},
   "outputs": [],
   "source": [
    "\"\"\"\n",
    "Compute and print tens and ones digit of an integer in [0,100).\n",
    "\"\"\"\n",
    "\n",
    "###################################################\n",
    "# Digits function\n",
    "# Student should enter function on the next lines.\n",
    "def print_digits(number):\n",
    "    \"\"\"\n",
    "    Prints the tens and ones digit of an integer in the range(0,100).\n",
    "    \"\"\"\n",
    "    \n",
    "    if 0 <= number < 100:\n",
    "        ## your code is here\n",
    "    else:\n",
    "        ## your code is here\n"
   ]
  },
  {
   "cell_type": "markdown",
   "id": "cdc30a07-afd7-41aa-a694-fd9747a32a6e",
   "metadata": {},
   "source": [
    "## Q2:\n",
    "\n",
    "Given numbers a, b, and c, the quadratic equation $a x^2 + b x + c = 0$  can have zero, one or two real solutions (i.e; values for x that satisfy the equation). The quadratic formula $x = \\frac{-b \\pm \\sqrt{b^2 - 4 a c}}{2 a}$ can be used to compute these solutions. The expression $b^2 - 4 a c$  is the _discriminant_ associated with the equation. If the _discriminant_ is positive, the equation has two solutions. If the _discriminant_ is zero, the equation has one solution. Finally, if the _discriminant_ is negative, the equation has no solutions. Write a Python function __smaller_root__ that takes an input the numbers __a__ , __b__ and __c__ and returns the smaller solution to this equation if one exists. If the equation has no real solution, print the message __\"Error: No real solutions\"__ and simply return. Note that, in this case, the function will actually return the special Python value __None__ ."
   ]
  },
  {
   "cell_type": "code",
   "execution_count": null,
   "id": "912a85b4-6c5b-46b8-9d6c-286278a4e6f0",
   "metadata": {},
   "outputs": [],
   "source": [
    "\"\"\"\n",
    "Compute the smaller root of a quadratic equation.\n",
    "\"\"\"\n",
    "\n",
    "###################################################\n",
    "# Smaller quadratic root formula\n",
    "# Student should enter function on the next lines.\n",
    "def smaller_root(coeff_a, coeff_b, coeff_c):\n",
    "    \"\"\"\n",
    "    Returns the smaller root of a quadratic equation with the\n",
    "    given coefficients.\n",
    "    \"\"\"\n",
    "    \n",
    "    discriminant = ## your code is here\n",
    "    if discriminant < 0 or coeff_a == 0:\n",
    "        ## your code is here\n",
    "    else:\n",
    "        ## your code is here\n",
    "\n"
   ]
  },
  {
   "cell_type": "markdown",
   "id": "2297f425-aabf-4956-84a0-74b9627a8ae6",
   "metadata": {
    "tags": []
   },
   "source": [
    "## Q3:\n",
    "\n",
    "\n",
    "Fill in the for loop below to set the x, y1, and y2 arrays to the following values:\n",
    "\n",
    " - The x array should contain num_points many points evenly spaced between 0 and 2*pi. 0 and 2*pi should be included.\n",
    "\n",
    " - The y1 array should contain the corresponding sine values of the values in the x array.\n",
    "\n",
    " - The y2 array should contain the corresponding cosine values of the values in the x array.\n",
    "\n"
   ]
  },
  {
   "cell_type": "code",
   "execution_count": null,
   "id": "68495ddb-5a59-4c6b-a09b-9d59efb5e7fa",
   "metadata": {},
   "outputs": [],
   "source": [
    "\"\"\"\n",
    "Compute sin and cos.\n",
    "\"\"\"\n",
    "import numpy\n",
    "import matplotlib.pyplot as plt\n",
    "import math\n",
    "\n",
    "\n",
    "def sin_cos():\n",
    "    num_points = 50\n",
    "\n",
    "    x = numpy.zeros(num_points)\n",
    "    sin_x = numpy.zeros(num_points)\n",
    "    cos_x = numpy.zeros(num_points)\n",
    "\n",
    "    for i in range(num_points):\n",
    "        x[i] =    ### Your code here\n",
    "        sin_x[i] =  ### Your code here\n",
    "        cos_x[i] = ### Your code here\n",
    "    return x, sin_x, cos_x\n",
    "\n",
    "x, sin_x, cos_x = sin_cos()\n",
    "\n",
    "# These lines call the matplotlib package\n",
    "# to plot the values you input on a graph.\n",
    "plt.plot(x, sin_x)\n",
    "plt.plot(x, cos_x)"
   ]
  },
  {
   "cell_type": "markdown",
   "id": "b6409136-4d5f-4f58-9805-d891fdfa6cf0",
   "metadata": {},
   "source": [
    "## Q4: \n",
    "\n",
    "Write a python function to create the expression:\n",
    "\n",
    "$$f = x e^{-x} + x (1-x) + sin(x)$$\n",
    "\n",
    "Then evaluate it for \n",
    "\n",
    "$$x = 0, 0.1, 0.2, 0.4, 0.8$$"
   ]
  },
  {
   "cell_type": "code",
   "execution_count": null,
   "id": "cc386882-289e-463f-a4fa-ef59f672df89",
   "metadata": {},
   "outputs": [],
   "source": [
    "import numpy\n",
    "x_vec = numpy.array([## your code is here])\n",
    "## your code is here"
   ]
  },
  {
   "cell_type": "markdown",
   "id": "ca56cb6c-cb3f-4190-97fd-2a32e031ea6d",
   "metadata": {},
   "source": [
    "## Q5: \n",
    "\n",
    "Write a python function to factors the following polynomials\n",
    "\n",
    "$$p_1 = x^{4} - 6 x^{3} + x^{2} + 24 x + 16$$\n",
    "$$p_2 = x^2 + 2x +1$$\n",
    "\n",
    "\n",
    "Then find their roots and simplfy ${p_1}\\div{p_2}$."
   ]
  },
  {
   "cell_type": "code",
   "execution_count": null,
   "id": "39d998a5-9276-485e-800a-257876e53f6a",
   "metadata": {},
   "outputs": [],
   "source": [
    "p1 = ## your code is here"
   ]
  },
  {
   "cell_type": "code",
   "execution_count": null,
   "id": "604e29a6-54af-4f22-9c28-34ed48cc9c31",
   "metadata": {},
   "outputs": [],
   "source": [
    "p2 = ## your code is here"
   ]
  },
  {
   "cell_type": "code",
   "execution_count": null,
   "id": "b8dcb1bb-2790-4c0d-a6af-7af7fd0b35da",
   "metadata": {},
   "outputs": [],
   "source": [
    "p1/p2"
   ]
  },
  {
   "cell_type": "code",
   "execution_count": null,
   "id": "e8b5568b-7f6c-4b44-921c-5d1b8815f420",
   "metadata": {},
   "outputs": [],
   "source": [
    "# simplify and print the roots\n",
    "## your code is here"
   ]
  },
  {
   "cell_type": "markdown",
   "id": "de123ebd-9cac-459a-9ef3-ba00b31c7a21",
   "metadata": {
    "tags": []
   },
   "source": [
    "## Q6: \n",
    "\n",
    "Giving the  Gaussian function \n",
    "\\begin{equation} \n",
    "f(x)=\\dfrac{1}{\\sqrt{2 \\pi a}}e^{-\\dfrac{(x-x_0)^2}{2a}}\n",
    "\\end{equation} \n",
    "\n",
    "write a program to \n",
    "\n",
    "* Initializing a Gaussian  function\n",
    "* Calculation of first and second derivative for the Gaussian function"
   ]
  },
  {
   "cell_type": "code",
   "execution_count": null,
   "id": "bf46416c-579a-4258-9da8-e358918beea9",
   "metadata": {},
   "outputs": [],
   "source": [
    "from  sympy import *\n",
    "## your code is here"
   ]
  },
  {
   "cell_type": "markdown",
   "id": "890efa33-c2b6-496b-96fa-d34e8a5ba098",
   "metadata": {},
   "source": [
    "## Q7:\n",
    "\n",
    "Giving the function \n",
    "$$f(x,y) = e^{(x^2+y^2)}$$ find the following derivative\n",
    "$$\\int_{0}^{0.5} f(x,y)dx$$\n",
    "\n",
    "$$\\int_{0}^1 f(x,y)dy$$\n",
    "\n",
    "$$\\int_{0}^{0.5} \\int_{0}^1 f(x,y)dy dx$$"
   ]
  },
  {
   "cell_type": "code",
   "execution_count": null,
   "id": "b1aa1cf7-9ad1-47f1-a91a-2724ba6e9cd5",
   "metadata": {},
   "outputs": [],
   "source": [
    "x, y = symbols(\"x,y\")"
   ]
  },
  {
   "cell_type": "code",
   "execution_count": null,
   "id": "93881f1b-d736-49fc-b41f-4ee1339511c0",
   "metadata": {},
   "outputs": [],
   "source": [
    "f = ## your code is here\n",
    "fx = ## your code is here\n",
    "fy =## your code is here\n",
    "fxfy = ## your code is here\n",
    "fyfx = ## your code is here"
   ]
  },
  {
   "cell_type": "markdown",
   "id": "b9dce059-b455-410d-9b80-94355ccc7196",
   "metadata": {},
   "source": [
    "## Q8:\n",
    "\n",
    "Write a program to solve the following Ordinary Differential Equations (ODEs)\n",
    "$$\\frac{dy(t)}{dt} = -\\lambda y(t)$$\n"
   ]
  },
  {
   "cell_type": "code",
   "execution_count": null,
   "id": "8a960a59-19d7-40ad-9863-75a4984fbca6",
   "metadata": {},
   "outputs": [],
   "source": [
    "import sympy as sym\n",
    "## your code is here"
   ]
  },
  {
   "cell_type": "markdown",
   "id": "d1bad9b0-424e-4d93-b328-55f1e5e153cf",
   "metadata": {},
   "source": [
    "## Q9:\n",
    "\n",
    "Use the series method of SymPy to make a 5-th order Taylor series of tan(x) about x=$\\pi/2$. Then, get rid of the order information$"
   ]
  },
  {
   "cell_type": "code",
   "execution_count": null,
   "id": "f263bcb8-5d40-424c-b0f2-a19281eb7010",
   "metadata": {},
   "outputs": [],
   "source": [
    "s = ## your code is here"
   ]
  },
  {
   "cell_type": "markdown",
   "id": "109465b3-487f-4805-8edb-af3ae6926cf0",
   "metadata": {},
   "source": [
    "## Q10:\n",
    "\n",
    "Use the fourier_series method of SymPy to  find the first 8 terms of the fourier series of the function $f(t)=t$ between −π and π and the coefficients $a_n$ and $b_n$ of the series."
   ]
  },
  {
   "cell_type": "code",
   "execution_count": null,
   "id": "a1f9e442-2931-4ca3-9967-35dff9f086ff",
   "metadata": {},
   "outputs": [],
   "source": [
    "t = symbols('t')\n",
    "f = t\n",
    "## your code is here"
   ]
  },
  {
   "cell_type": "markdown",
   "id": "0d68aaf8-724f-4b4f-9975-b9b3b207b319",
   "metadata": {},
   "source": [
    " __About the Lecturer__:  \n",
    "\n",
    "[Dr. Salem A Ameen](https://scholar.google.com/citations?user=CE5vFPKBy44C&hl=en) has a PhD in Machine Learning, his research focused on machine learning, multi-armed Bandit, and computer vision. Salem has been working for Salford University since he completed his PhD.\n",
    "\n",
    "Sessional Lecturer /  School of Science, Engineering & Environment\n",
    "\n",
    "Newton 163,University of Salford, Manchester          M5 4WT\n",
    "\n",
    "T: +44(0) 0161 295 3845 \n",
    "\n",
    "s.a.ameen1@salford.ac.uk  /  www.salford.ac.uk"
   ]
  }
 ],
 "metadata": {
  "kernelspec": {
   "display_name": "Python 3",
   "language": "python",
   "name": "python3"
  },
  "language_info": {
   "codemirror_mode": {
    "name": "ipython",
    "version": 3
   },
   "file_extension": ".py",
   "mimetype": "text/x-python",
   "name": "python",
   "nbconvert_exporter": "python",
   "pygments_lexer": "ipython3",
   "version": "3.8.8"
  }
 },
 "nbformat": 4,
 "nbformat_minor": 5
}
